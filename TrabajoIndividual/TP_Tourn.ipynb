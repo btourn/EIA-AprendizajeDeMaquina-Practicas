{
 "cells": [
  {
   "cell_type": "markdown",
   "metadata": {},
   "source": [
    "# Trabajo Práctico Individual - Aprendizaje Automático"
   ]
  },
  {
   "cell_type": "markdown",
   "metadata": {},
   "source": [
    "## Consigna\n",
    "Utilizando los conceptos vistos hasta el momento (clase 4), proponer un modelo capaz de detectar un posible fraude dada cierta operación online. Para ello contamos con el dataset *Online Payments Fraud Detection* disponible en Kaggle (https://www.kaggle.com/datasets/rupakroy/online-payments-fraud-detection-dataset).\n",
    "\n",
    "La descripción de cada columna es la siguiente:\n",
    "- step: representa una unidad de tiempo donde 1 step equivale a 1 hora\n",
    "- type: tipo de transacción en línea\n",
    "- amount: el importe de la transacción\n",
    "- nameOrig: cliente que inicia la transacción\n",
    "- oldbalanceOrg: saldo antes de la transacción\n",
    "- newbalanceOrig: saldo después de la transacción\n",
    "- nameDest: destinatario de la transacción\n",
    "- oldbalanceDest: saldo inicial del destinatario antes de la transacción\n",
    "- newbalanceDest: el nuevo saldo del destinatario después de la transacción\n",
    "- isFraud: transacción fraudulenta\n",
    "- isFlaggedFraud: \n",
    "\n",
    "La pregunta a responder, entonces, es si una determinada persona va a cometer fraude o no."
   ]
  },
  {
   "cell_type": "markdown",
   "metadata": {},
   "source": [
    "---"
   ]
  },
  {
   "cell_type": "markdown",
   "metadata": {},
   "source": [
    "Importacion de paquetes necesarios"
   ]
  },
  {
   "cell_type": "code",
   "execution_count": 1,
   "metadata": {},
   "outputs": [],
   "source": [
    "import numpy as np\n",
    "import pandas as pd\n",
    "import seaborn as sns\n",
    "import matplotlib.pyplot as plt"
   ]
  },
  {
   "cell_type": "markdown",
   "metadata": {},
   "source": [
    "## 1. Analisis de los datos"
   ]
  },
  {
   "cell_type": "code",
   "execution_count": 2,
   "metadata": {},
   "outputs": [],
   "source": [
    "fraud = pd.read_csv('PS_20174392719_1491204439457_log.csv')"
   ]
  },
  {
   "cell_type": "code",
   "execution_count": 3,
   "metadata": {},
   "outputs": [
    {
     "data": {
      "text/html": [
       "<div>\n",
       "<style scoped>\n",
       "    .dataframe tbody tr th:only-of-type {\n",
       "        vertical-align: middle;\n",
       "    }\n",
       "\n",
       "    .dataframe tbody tr th {\n",
       "        vertical-align: top;\n",
       "    }\n",
       "\n",
       "    .dataframe thead th {\n",
       "        text-align: right;\n",
       "    }\n",
       "</style>\n",
       "<table border=\"1\" class=\"dataframe\">\n",
       "  <thead>\n",
       "    <tr style=\"text-align: right;\">\n",
       "      <th></th>\n",
       "      <th>step</th>\n",
       "      <th>type</th>\n",
       "      <th>amount</th>\n",
       "      <th>nameOrig</th>\n",
       "      <th>oldbalanceOrg</th>\n",
       "      <th>newbalanceOrig</th>\n",
       "      <th>nameDest</th>\n",
       "      <th>oldbalanceDest</th>\n",
       "      <th>newbalanceDest</th>\n",
       "      <th>isFraud</th>\n",
       "      <th>isFlaggedFraud</th>\n",
       "    </tr>\n",
       "  </thead>\n",
       "  <tbody>\n",
       "    <tr>\n",
       "      <th>0</th>\n",
       "      <td>1</td>\n",
       "      <td>PAYMENT</td>\n",
       "      <td>9839.64</td>\n",
       "      <td>C1231006815</td>\n",
       "      <td>170136.0</td>\n",
       "      <td>160296.36</td>\n",
       "      <td>M1979787155</td>\n",
       "      <td>0.0</td>\n",
       "      <td>0.0</td>\n",
       "      <td>0</td>\n",
       "      <td>0</td>\n",
       "    </tr>\n",
       "    <tr>\n",
       "      <th>1</th>\n",
       "      <td>1</td>\n",
       "      <td>PAYMENT</td>\n",
       "      <td>1864.28</td>\n",
       "      <td>C1666544295</td>\n",
       "      <td>21249.0</td>\n",
       "      <td>19384.72</td>\n",
       "      <td>M2044282225</td>\n",
       "      <td>0.0</td>\n",
       "      <td>0.0</td>\n",
       "      <td>0</td>\n",
       "      <td>0</td>\n",
       "    </tr>\n",
       "    <tr>\n",
       "      <th>2</th>\n",
       "      <td>1</td>\n",
       "      <td>TRANSFER</td>\n",
       "      <td>181.00</td>\n",
       "      <td>C1305486145</td>\n",
       "      <td>181.0</td>\n",
       "      <td>0.00</td>\n",
       "      <td>C553264065</td>\n",
       "      <td>0.0</td>\n",
       "      <td>0.0</td>\n",
       "      <td>1</td>\n",
       "      <td>0</td>\n",
       "    </tr>\n",
       "    <tr>\n",
       "      <th>3</th>\n",
       "      <td>1</td>\n",
       "      <td>CASH_OUT</td>\n",
       "      <td>181.00</td>\n",
       "      <td>C840083671</td>\n",
       "      <td>181.0</td>\n",
       "      <td>0.00</td>\n",
       "      <td>C38997010</td>\n",
       "      <td>21182.0</td>\n",
       "      <td>0.0</td>\n",
       "      <td>1</td>\n",
       "      <td>0</td>\n",
       "    </tr>\n",
       "    <tr>\n",
       "      <th>4</th>\n",
       "      <td>1</td>\n",
       "      <td>PAYMENT</td>\n",
       "      <td>11668.14</td>\n",
       "      <td>C2048537720</td>\n",
       "      <td>41554.0</td>\n",
       "      <td>29885.86</td>\n",
       "      <td>M1230701703</td>\n",
       "      <td>0.0</td>\n",
       "      <td>0.0</td>\n",
       "      <td>0</td>\n",
       "      <td>0</td>\n",
       "    </tr>\n",
       "  </tbody>\n",
       "</table>\n",
       "</div>"
      ],
      "text/plain": [
       "   step      type    amount     nameOrig  oldbalanceOrg  newbalanceOrig  \\\n",
       "0     1   PAYMENT   9839.64  C1231006815       170136.0       160296.36   \n",
       "1     1   PAYMENT   1864.28  C1666544295        21249.0        19384.72   \n",
       "2     1  TRANSFER    181.00  C1305486145          181.0            0.00   \n",
       "3     1  CASH_OUT    181.00   C840083671          181.0            0.00   \n",
       "4     1   PAYMENT  11668.14  C2048537720        41554.0        29885.86   \n",
       "\n",
       "      nameDest  oldbalanceDest  newbalanceDest  isFraud  isFlaggedFraud  \n",
       "0  M1979787155             0.0             0.0        0               0  \n",
       "1  M2044282225             0.0             0.0        0               0  \n",
       "2   C553264065             0.0             0.0        1               0  \n",
       "3    C38997010         21182.0             0.0        1               0  \n",
       "4  M1230701703             0.0             0.0        0               0  "
      ]
     },
     "execution_count": 3,
     "metadata": {},
     "output_type": "execute_result"
    }
   ],
   "source": [
    "# Visualizacion de las primeras filas\n",
    "fraud.head()"
   ]
  },
  {
   "cell_type": "code",
   "execution_count": 4,
   "metadata": {},
   "outputs": [
    {
     "name": "stdout",
     "output_type": "stream",
     "text": [
      "<class 'pandas.core.frame.DataFrame'>\n",
      "RangeIndex: 6362620 entries, 0 to 6362619\n",
      "Data columns (total 11 columns):\n",
      " #   Column          Dtype  \n",
      "---  ------          -----  \n",
      " 0   step            int64  \n",
      " 1   type            object \n",
      " 2   amount          float64\n",
      " 3   nameOrig        object \n",
      " 4   oldbalanceOrg   float64\n",
      " 5   newbalanceOrig  float64\n",
      " 6   nameDest        object \n",
      " 7   oldbalanceDest  float64\n",
      " 8   newbalanceDest  float64\n",
      " 9   isFraud         int64  \n",
      " 10  isFlaggedFraud  int64  \n",
      "dtypes: float64(5), int64(3), object(3)\n",
      "memory usage: 534.0+ MB\n"
     ]
    }
   ],
   "source": [
    "# Informacion del tamaño del dataset y del tipo de variables\n",
    "fraud.info()"
   ]
  },
  {
   "cell_type": "code",
   "execution_count": 5,
   "metadata": {},
   "outputs": [
    {
     "data": {
      "text/plain": [
       "False"
      ]
     },
     "execution_count": 5,
     "metadata": {},
     "output_type": "execute_result"
    }
   ],
   "source": [
    "# Según el resumen previo, no existen valores faltantes en el dataset. En la siguiente linea se confirma tal aseveración:\n",
    "fraud.isnull().values.any()"
   ]
  },
  {
   "cell_type": "code",
   "execution_count": 6,
   "metadata": {},
   "outputs": [
    {
     "data": {
      "text/html": [
       "<div>\n",
       "<style scoped>\n",
       "    .dataframe tbody tr th:only-of-type {\n",
       "        vertical-align: middle;\n",
       "    }\n",
       "\n",
       "    .dataframe tbody tr th {\n",
       "        vertical-align: top;\n",
       "    }\n",
       "\n",
       "    .dataframe thead th {\n",
       "        text-align: right;\n",
       "    }\n",
       "</style>\n",
       "<table border=\"1\" class=\"dataframe\">\n",
       "  <thead>\n",
       "    <tr style=\"text-align: right;\">\n",
       "      <th></th>\n",
       "      <th>step</th>\n",
       "      <th>amount</th>\n",
       "      <th>oldbalanceOrg</th>\n",
       "      <th>newbalanceOrig</th>\n",
       "      <th>oldbalanceDest</th>\n",
       "      <th>newbalanceDest</th>\n",
       "      <th>isFraud</th>\n",
       "      <th>isFlaggedFraud</th>\n",
       "    </tr>\n",
       "  </thead>\n",
       "  <tbody>\n",
       "    <tr>\n",
       "      <th>count</th>\n",
       "      <td>6.362620e+06</td>\n",
       "      <td>6.362620e+06</td>\n",
       "      <td>6.362620e+06</td>\n",
       "      <td>6.362620e+06</td>\n",
       "      <td>6.362620e+06</td>\n",
       "      <td>6.362620e+06</td>\n",
       "      <td>6.362620e+06</td>\n",
       "      <td>6.362620e+06</td>\n",
       "    </tr>\n",
       "    <tr>\n",
       "      <th>mean</th>\n",
       "      <td>2.433972e+02</td>\n",
       "      <td>1.798619e+05</td>\n",
       "      <td>8.338831e+05</td>\n",
       "      <td>8.551137e+05</td>\n",
       "      <td>1.100702e+06</td>\n",
       "      <td>1.224996e+06</td>\n",
       "      <td>1.290820e-03</td>\n",
       "      <td>2.514687e-06</td>\n",
       "    </tr>\n",
       "    <tr>\n",
       "      <th>std</th>\n",
       "      <td>1.423320e+02</td>\n",
       "      <td>6.038582e+05</td>\n",
       "      <td>2.888243e+06</td>\n",
       "      <td>2.924049e+06</td>\n",
       "      <td>3.399180e+06</td>\n",
       "      <td>3.674129e+06</td>\n",
       "      <td>3.590480e-02</td>\n",
       "      <td>1.585775e-03</td>\n",
       "    </tr>\n",
       "    <tr>\n",
       "      <th>min</th>\n",
       "      <td>1.000000e+00</td>\n",
       "      <td>0.000000e+00</td>\n",
       "      <td>0.000000e+00</td>\n",
       "      <td>0.000000e+00</td>\n",
       "      <td>0.000000e+00</td>\n",
       "      <td>0.000000e+00</td>\n",
       "      <td>0.000000e+00</td>\n",
       "      <td>0.000000e+00</td>\n",
       "    </tr>\n",
       "    <tr>\n",
       "      <th>25%</th>\n",
       "      <td>1.560000e+02</td>\n",
       "      <td>1.338957e+04</td>\n",
       "      <td>0.000000e+00</td>\n",
       "      <td>0.000000e+00</td>\n",
       "      <td>0.000000e+00</td>\n",
       "      <td>0.000000e+00</td>\n",
       "      <td>0.000000e+00</td>\n",
       "      <td>0.000000e+00</td>\n",
       "    </tr>\n",
       "    <tr>\n",
       "      <th>50%</th>\n",
       "      <td>2.390000e+02</td>\n",
       "      <td>7.487194e+04</td>\n",
       "      <td>1.420800e+04</td>\n",
       "      <td>0.000000e+00</td>\n",
       "      <td>1.327057e+05</td>\n",
       "      <td>2.146614e+05</td>\n",
       "      <td>0.000000e+00</td>\n",
       "      <td>0.000000e+00</td>\n",
       "    </tr>\n",
       "    <tr>\n",
       "      <th>75%</th>\n",
       "      <td>3.350000e+02</td>\n",
       "      <td>2.087215e+05</td>\n",
       "      <td>1.073152e+05</td>\n",
       "      <td>1.442584e+05</td>\n",
       "      <td>9.430367e+05</td>\n",
       "      <td>1.111909e+06</td>\n",
       "      <td>0.000000e+00</td>\n",
       "      <td>0.000000e+00</td>\n",
       "    </tr>\n",
       "    <tr>\n",
       "      <th>max</th>\n",
       "      <td>7.430000e+02</td>\n",
       "      <td>9.244552e+07</td>\n",
       "      <td>5.958504e+07</td>\n",
       "      <td>4.958504e+07</td>\n",
       "      <td>3.560159e+08</td>\n",
       "      <td>3.561793e+08</td>\n",
       "      <td>1.000000e+00</td>\n",
       "      <td>1.000000e+00</td>\n",
       "    </tr>\n",
       "  </tbody>\n",
       "</table>\n",
       "</div>"
      ],
      "text/plain": [
       "               step        amount  oldbalanceOrg  newbalanceOrig  \\\n",
       "count  6.362620e+06  6.362620e+06   6.362620e+06    6.362620e+06   \n",
       "mean   2.433972e+02  1.798619e+05   8.338831e+05    8.551137e+05   \n",
       "std    1.423320e+02  6.038582e+05   2.888243e+06    2.924049e+06   \n",
       "min    1.000000e+00  0.000000e+00   0.000000e+00    0.000000e+00   \n",
       "25%    1.560000e+02  1.338957e+04   0.000000e+00    0.000000e+00   \n",
       "50%    2.390000e+02  7.487194e+04   1.420800e+04    0.000000e+00   \n",
       "75%    3.350000e+02  2.087215e+05   1.073152e+05    1.442584e+05   \n",
       "max    7.430000e+02  9.244552e+07   5.958504e+07    4.958504e+07   \n",
       "\n",
       "       oldbalanceDest  newbalanceDest       isFraud  isFlaggedFraud  \n",
       "count    6.362620e+06    6.362620e+06  6.362620e+06    6.362620e+06  \n",
       "mean     1.100702e+06    1.224996e+06  1.290820e-03    2.514687e-06  \n",
       "std      3.399180e+06    3.674129e+06  3.590480e-02    1.585775e-03  \n",
       "min      0.000000e+00    0.000000e+00  0.000000e+00    0.000000e+00  \n",
       "25%      0.000000e+00    0.000000e+00  0.000000e+00    0.000000e+00  \n",
       "50%      1.327057e+05    2.146614e+05  0.000000e+00    0.000000e+00  \n",
       "75%      9.430367e+05    1.111909e+06  0.000000e+00    0.000000e+00  \n",
       "max      3.560159e+08    3.561793e+08  1.000000e+00    1.000000e+00  "
      ]
     },
     "execution_count": 6,
     "metadata": {},
     "output_type": "execute_result"
    }
   ],
   "source": [
    "# Resumen de 8 números sobre variables tipo 'int' y 'float'\n",
    "fraud.describe()"
   ]
  },
  {
   "cell_type": "markdown",
   "metadata": {},
   "source": [
    "### Variables categóricas"
   ]
  },
  {
   "cell_type": "code",
   "execution_count": 7,
   "metadata": {},
   "outputs": [
    {
     "name": "stdout",
     "output_type": "stream",
     "text": [
      "Variable tipo \"object\": Número de etiquetas distintas para la variable type : 5\n",
      "Variable tipo \"object\": Número de etiquetas distintas para la variable nameOrig : 6353307\n",
      "Variable tipo \"object\": Número de etiquetas distintas para la variable nameDest : 2722362\n"
     ]
    }
   ],
   "source": [
    "# Etiquetas unicas para las variables tipo 'object'\n",
    "for col in fraud.select_dtypes(include='object'):\n",
    "    print('Variable tipo \\\"object\\\": Número de etiquetas distintas para la variable', col, ':', fraud[col].nunique())"
   ]
  },
  {
   "cell_type": "markdown",
   "metadata": {},
   "source": [
    "Es posible observar que los strings que componen las variable 'nameOrig' y 'nameDest' están formados por una letra seguida de un número. A continuación se muestran la cantidad de letras diferentes que componen dichos valores en cada columna:"
   ]
  },
  {
   "cell_type": "code",
   "execution_count": 8,
   "metadata": {},
   "outputs": [
    {
     "name": "stdout",
     "output_type": "stream",
     "text": [
      "Letras unicas en 'nameOrig': ['C']\n",
      "Letras unicas en 'nameDest': ['C' 'M']\n"
     ]
    }
   ],
   "source": [
    "# Letras unicas en 'nameOrig' y 'nameDest'\n",
    "un_nameOrig = np.unique(fraud['nameOrig'].str[:1])\n",
    "un_nameDest = np.unique(fraud['nameDest'].str[:1])\n",
    "print('Letras unicas en \\'nameOrig\\':', un_nameOrig)\n",
    "print('Letras unicas en \\'nameDest\\':', un_nameDest)"
   ]
  },
  {
   "cell_type": "markdown",
   "metadata": {},
   "source": [
    "Los strings de la variable 'nameOrig' tienen una sola letra diferente, y además la cardinalidad de esta variable es prácticamente igual al tamaño del dataset, con lo cual se eliminará del mismo. \n",
    "\n",
    "Por otro lado, la variable 'nameDest' cuenta con dos categorías dadas por las letras 'C' y 'M'. A continuación se realizará un histograma de su ocurrencia:"
   ]
  },
  {
   "cell_type": "code",
   "execution_count": 9,
   "metadata": {},
   "outputs": [
    {
     "data": {
      "image/png": "[encoded data removed]",
      "text/plain": [
       "<Figure size 432x288 with 1 Axes>"
      ]
     },
     "metadata": {
      "needs_background": "light"
     },
     "output_type": "display_data"
    }
   ],
   "source": [
    "# Histograma para la variable 'nameDest' con escala logarítmica en el eje y\n",
    "df = fraud['nameDest'].str[:1]\n",
    "fraud['nameDest'] = df.values\n",
    "g = sns.countplot(x=\"nameDest\", data=fraud)\n",
    "g.set_yscale(\"log\")"
   ]
  },
  {
   "cell_type": "code",
   "execution_count": 10,
   "metadata": {},
   "outputs": [
    {
     "data": {
      "text/plain": [
       "C    4211125\n",
       "M    2151495\n",
       "Name: nameDest, dtype: int64"
      ]
     },
     "execution_count": 10,
     "metadata": {},
     "output_type": "execute_result"
    }
   ],
   "source": [
    "fraud['nameDest'].value_counts()"
   ]
  },
  {
   "cell_type": "markdown",
   "metadata": {},
   "source": [
    "Se aprecia que la clase 'C' posee el doble de valores que la clase 'M'. "
   ]
  },
  {
   "cell_type": "markdown",
   "metadata": {},
   "source": [
    "Se realiza también un histograma para la variable $\\texttt{type}$, como el que se muestra a continuación."
   ]
  },
  {
   "cell_type": "code",
   "execution_count": 11,
   "metadata": {},
   "outputs": [
    {
     "data": {
      "image/png": "[encoded data removed]",
      "text/plain": [
       "<Figure size 432x288 with 1 Axes>"
      ]
     },
     "metadata": {
      "needs_background": "light"
     },
     "output_type": "display_data"
    }
   ],
   "source": [
    "# Histograma para la variable 'type' con escala logarítmica en el eje y\n",
    "g = sns.countplot(x=\"type\", data=fraud)\n",
    "g.set_yscale(\"log\")"
   ]
  },
  {
   "cell_type": "code",
   "execution_count": 12,
   "metadata": {},
   "outputs": [
    {
     "data": {
      "text/plain": [
       "CASH_OUT    2237500\n",
       "PAYMENT     2151495\n",
       "CASH_IN     1399284\n",
       "TRANSFER     532909\n",
       "DEBIT         41432\n",
       "Name: type, dtype: int64"
      ]
     },
     "execution_count": 12,
     "metadata": {},
     "output_type": "execute_result"
    }
   ],
   "source": [
    "fraud['type'].value_counts()"
   ]
  },
  {
   "cell_type": "code",
   "execution_count": 13,
   "metadata": {},
   "outputs": [
    {
     "name": "stdout",
     "output_type": "stream",
     "text": [
      "Variable tipo \"int64\": Número de niveles distintos para la variable step : 743\n",
      "Variable tipo \"int64\": Número de niveles distintos para la variable isFraud : 2\n",
      "Variable tipo \"int64\": Número de niveles distintos para la variable isFlaggedFraud : 2\n"
     ]
    }
   ],
   "source": [
    "# Cantidad de niveles distintos para las variables tipo 'int64'\n",
    "for col in fraud.select_dtypes(include='int64'):\n",
    "    print('Variable tipo \\\"int64\\\": Número de niveles distintos para la variable', col, ':', fraud[col].nunique())"
   ]
  },
  {
   "cell_type": "markdown",
   "metadata": {},
   "source": [
    "### Variables numéricas"
   ]
  },
  {
   "cell_type": "code",
   "execution_count": 14,
   "metadata": {},
   "outputs": [
    {
     "data": {
      "image/png": "[encoded data removed]",
      "text/plain": [
       "<Figure size 1440x1440 with 6 Axes>"
      ]
     },
     "metadata": {},
     "output_type": "display_data"
    }
   ],
   "source": [
    "# Histogramas de variables tipo 'int64' y 'float'\n",
    "sns.set(style=\"darkgrid\")\n",
    "rows, cols = 3, 2\n",
    "fig, axs = plt.subplots(rows, cols, figsize=(20, 20))\n",
    "df = fraud.select_dtypes(include=['int64', 'float'])\n",
    "cont = 0\n",
    "for row in range(rows):\n",
    "    for col in range(cols):\n",
    "        df_col = df.columns[cont]\n",
    "        if cont==0:\n",
    "            g = sns.histplot(data=df, x=df_col, bins=100, ax=axs[row, col]) \n",
    "            #df = df.replace(0, 1e-6)\n",
    "        else:\n",
    "            g = sns.histplot(data=df, x=df_col, log_scale=False, bins=100, ax=axs[row, col]) \n",
    "        g.set_yscale('log')\n",
    "        cont += 1\n",
    "\n",
    "plt.show()"
   ]
  },
  {
   "cell_type": "code",
   "execution_count": 15,
   "metadata": {},
   "outputs": [
    {
     "data": {
      "image/png": "[encoded data removed]",
      "text/plain": [
       "<Figure size 432x288 with 1 Axes>"
      ]
     },
     "metadata": {},
     "output_type": "display_data"
    }
   ],
   "source": [
    "# Histograma para la variable 'isFraud'\n",
    "g = sns.countplot(x=\"isFraud\", data=fraud) \n",
    "g.set_yscale(\"log\")"
   ]
  },
  {
   "cell_type": "markdown",
   "metadata": {},
   "source": [
    "Observamos que las clases de la variable objetivo se encuentran totalmente desbalanceadas. Por este motivo, debemos evaluar el desempeño de los diversos métodos de balanceo de clases disponibles, entre los que podemos mencionar:\n",
    "- Oversampling\n",
    "- Undersampling\n",
    "- Utilizar algoritmos de penzalición\n",
    "- Utilizar modelos de clasificación insensibles al desbalanceo (por ejemplo, árboles de decisión)"
   ]
  },
  {
   "cell_type": "markdown",
   "metadata": {},
   "source": [
    "---"
   ]
  },
  {
   "cell_type": "markdown",
   "metadata": {},
   "source": [
    "## 2. Ingeniería de Features"
   ]
  },
  {
   "cell_type": "markdown",
   "metadata": {},
   "source": [
    "### Eliminación de columnas\n",
    "Se eliminarán las variables 'nameOrig' y 'isFlaggedFraud' dado que no aportan información a la predicción de fraude"
   ]
  },
  {
   "cell_type": "code",
   "execution_count": 16,
   "metadata": {},
   "outputs": [
    {
     "data": {
      "text/html": [
       "<div>\n",
       "<style scoped>\n",
       "    .dataframe tbody tr th:only-of-type {\n",
       "        vertical-align: middle;\n",
       "    }\n",
       "\n",
       "    .dataframe tbody tr th {\n",
       "        vertical-align: top;\n",
       "    }\n",
       "\n",
       "    .dataframe thead th {\n",
       "        text-align: right;\n",
       "    }\n",
       "</style>\n",
       "<table border=\"1\" class=\"dataframe\">\n",
       "  <thead>\n",
       "    <tr style=\"text-align: right;\">\n",
       "      <th></th>\n",
       "      <th>step</th>\n",
       "      <th>type</th>\n",
       "      <th>amount</th>\n",
       "      <th>oldbalanceOrg</th>\n",
       "      <th>newbalanceOrig</th>\n",
       "      <th>nameDest</th>\n",
       "      <th>oldbalanceDest</th>\n",
       "      <th>newbalanceDest</th>\n",
       "      <th>isFraud</th>\n",
       "    </tr>\n",
       "  </thead>\n",
       "  <tbody>\n",
       "    <tr>\n",
       "      <th>0</th>\n",
       "      <td>1</td>\n",
       "      <td>PAYMENT</td>\n",
       "      <td>9839.64</td>\n",
       "      <td>170136.0</td>\n",
       "      <td>160296.36</td>\n",
       "      <td>M</td>\n",
       "      <td>0.0</td>\n",
       "      <td>0.0</td>\n",
       "      <td>0</td>\n",
       "    </tr>\n",
       "    <tr>\n",
       "      <th>1</th>\n",
       "      <td>1</td>\n",
       "      <td>PAYMENT</td>\n",
       "      <td>1864.28</td>\n",
       "      <td>21249.0</td>\n",
       "      <td>19384.72</td>\n",
       "      <td>M</td>\n",
       "      <td>0.0</td>\n",
       "      <td>0.0</td>\n",
       "      <td>0</td>\n",
       "    </tr>\n",
       "    <tr>\n",
       "      <th>2</th>\n",
       "      <td>1</td>\n",
       "      <td>TRANSFER</td>\n",
       "      <td>181.00</td>\n",
       "      <td>181.0</td>\n",
       "      <td>0.00</td>\n",
       "      <td>C</td>\n",
       "      <td>0.0</td>\n",
       "      <td>0.0</td>\n",
       "      <td>1</td>\n",
       "    </tr>\n",
       "    <tr>\n",
       "      <th>3</th>\n",
       "      <td>1</td>\n",
       "      <td>CASH_OUT</td>\n",
       "      <td>181.00</td>\n",
       "      <td>181.0</td>\n",
       "      <td>0.00</td>\n",
       "      <td>C</td>\n",
       "      <td>21182.0</td>\n",
       "      <td>0.0</td>\n",
       "      <td>1</td>\n",
       "    </tr>\n",
       "    <tr>\n",
       "      <th>4</th>\n",
       "      <td>1</td>\n",
       "      <td>PAYMENT</td>\n",
       "      <td>11668.14</td>\n",
       "      <td>41554.0</td>\n",
       "      <td>29885.86</td>\n",
       "      <td>M</td>\n",
       "      <td>0.0</td>\n",
       "      <td>0.0</td>\n",
       "      <td>0</td>\n",
       "    </tr>\n",
       "  </tbody>\n",
       "</table>\n",
       "</div>"
      ],
      "text/plain": [
       "   step      type    amount  oldbalanceOrg  newbalanceOrig nameDest  \\\n",
       "0     1   PAYMENT   9839.64       170136.0       160296.36        M   \n",
       "1     1   PAYMENT   1864.28        21249.0        19384.72        M   \n",
       "2     1  TRANSFER    181.00          181.0            0.00        C   \n",
       "3     1  CASH_OUT    181.00          181.0            0.00        C   \n",
       "4     1   PAYMENT  11668.14        41554.0        29885.86        M   \n",
       "\n",
       "   oldbalanceDest  newbalanceDest  isFraud  \n",
       "0             0.0             0.0        0  \n",
       "1             0.0             0.0        0  \n",
       "2             0.0             0.0        1  \n",
       "3         21182.0             0.0        1  \n",
       "4             0.0             0.0        0  "
      ]
     },
     "execution_count": 16,
     "metadata": {},
     "output_type": "execute_result"
    }
   ],
   "source": [
    "cols_to_drop = ['nameOrig', 'isFlaggedFraud']\n",
    "fraud2 = fraud.drop(cols_to_drop, axis=1)\n",
    "fraud2.head()"
   ]
  },
  {
   "cell_type": "markdown",
   "metadata": {},
   "source": [
    "### Codificación de variables categóricas"
   ]
  },
  {
   "cell_type": "code",
   "execution_count": 17,
   "metadata": {},
   "outputs": [
    {
     "data": {
      "text/html": [
       "<div>\n",
       "<style scoped>\n",
       "    .dataframe tbody tr th:only-of-type {\n",
       "        vertical-align: middle;\n",
       "    }\n",
       "\n",
       "    .dataframe tbody tr th {\n",
       "        vertical-align: top;\n",
       "    }\n",
       "\n",
       "    .dataframe thead th {\n",
       "        text-align: right;\n",
       "    }\n",
       "</style>\n",
       "<table border=\"1\" class=\"dataframe\">\n",
       "  <thead>\n",
       "    <tr style=\"text-align: right;\">\n",
       "      <th></th>\n",
       "      <th>CASH_IN</th>\n",
       "      <th>CASH_OUT</th>\n",
       "      <th>DEBIT</th>\n",
       "      <th>PAYMENT</th>\n",
       "      <th>TRANSFER</th>\n",
       "    </tr>\n",
       "  </thead>\n",
       "  <tbody>\n",
       "    <tr>\n",
       "      <th>0</th>\n",
       "      <td>0</td>\n",
       "      <td>0</td>\n",
       "      <td>0</td>\n",
       "      <td>1</td>\n",
       "      <td>0</td>\n",
       "    </tr>\n",
       "    <tr>\n",
       "      <th>1</th>\n",
       "      <td>0</td>\n",
       "      <td>0</td>\n",
       "      <td>0</td>\n",
       "      <td>1</td>\n",
       "      <td>0</td>\n",
       "    </tr>\n",
       "    <tr>\n",
       "      <th>2</th>\n",
       "      <td>0</td>\n",
       "      <td>0</td>\n",
       "      <td>0</td>\n",
       "      <td>0</td>\n",
       "      <td>1</td>\n",
       "    </tr>\n",
       "    <tr>\n",
       "      <th>3</th>\n",
       "      <td>0</td>\n",
       "      <td>1</td>\n",
       "      <td>0</td>\n",
       "      <td>0</td>\n",
       "      <td>0</td>\n",
       "    </tr>\n",
       "    <tr>\n",
       "      <th>4</th>\n",
       "      <td>0</td>\n",
       "      <td>0</td>\n",
       "      <td>0</td>\n",
       "      <td>1</td>\n",
       "      <td>0</td>\n",
       "    </tr>\n",
       "  </tbody>\n",
       "</table>\n",
       "</div>"
      ],
      "text/plain": [
       "   CASH_IN  CASH_OUT  DEBIT  PAYMENT  TRANSFER\n",
       "0        0         0      0        1         0\n",
       "1        0         0      0        1         0\n",
       "2        0         0      0        0         1\n",
       "3        0         1      0        0         0\n",
       "4        0         0      0        1         0"
      ]
     },
     "execution_count": 17,
     "metadata": {},
     "output_type": "execute_result"
    }
   ],
   "source": [
    "# one-hot enconding para la variable 'type'\n",
    "df = pd.get_dummies(fraud2.type)\n",
    "df.head()"
   ]
  },
  {
   "cell_type": "code",
   "execution_count": 18,
   "metadata": {},
   "outputs": [
    {
     "data": {
      "text/html": [
       "<div>\n",
       "<style scoped>\n",
       "    .dataframe tbody tr th:only-of-type {\n",
       "        vertical-align: middle;\n",
       "    }\n",
       "\n",
       "    .dataframe tbody tr th {\n",
       "        vertical-align: top;\n",
       "    }\n",
       "\n",
       "    .dataframe thead th {\n",
       "        text-align: right;\n",
       "    }\n",
       "</style>\n",
       "<table border=\"1\" class=\"dataframe\">\n",
       "  <thead>\n",
       "    <tr style=\"text-align: right;\">\n",
       "      <th></th>\n",
       "      <th>step</th>\n",
       "      <th>amount</th>\n",
       "      <th>oldbalanceOrg</th>\n",
       "      <th>newbalanceOrig</th>\n",
       "      <th>nameDest</th>\n",
       "      <th>oldbalanceDest</th>\n",
       "      <th>newbalanceDest</th>\n",
       "      <th>isFraud</th>\n",
       "      <th>CASH_IN</th>\n",
       "      <th>CASH_OUT</th>\n",
       "      <th>DEBIT</th>\n",
       "      <th>PAYMENT</th>\n",
       "      <th>TRANSFER</th>\n",
       "    </tr>\n",
       "  </thead>\n",
       "  <tbody>\n",
       "    <tr>\n",
       "      <th>0</th>\n",
       "      <td>1</td>\n",
       "      <td>9839.64</td>\n",
       "      <td>170136.0</td>\n",
       "      <td>160296.36</td>\n",
       "      <td>M</td>\n",
       "      <td>0.0</td>\n",
       "      <td>0.0</td>\n",
       "      <td>0</td>\n",
       "      <td>0</td>\n",
       "      <td>0</td>\n",
       "      <td>0</td>\n",
       "      <td>1</td>\n",
       "      <td>0</td>\n",
       "    </tr>\n",
       "    <tr>\n",
       "      <th>1</th>\n",
       "      <td>1</td>\n",
       "      <td>1864.28</td>\n",
       "      <td>21249.0</td>\n",
       "      <td>19384.72</td>\n",
       "      <td>M</td>\n",
       "      <td>0.0</td>\n",
       "      <td>0.0</td>\n",
       "      <td>0</td>\n",
       "      <td>0</td>\n",
       "      <td>0</td>\n",
       "      <td>0</td>\n",
       "      <td>1</td>\n",
       "      <td>0</td>\n",
       "    </tr>\n",
       "    <tr>\n",
       "      <th>2</th>\n",
       "      <td>1</td>\n",
       "      <td>181.00</td>\n",
       "      <td>181.0</td>\n",
       "      <td>0.00</td>\n",
       "      <td>C</td>\n",
       "      <td>0.0</td>\n",
       "      <td>0.0</td>\n",
       "      <td>1</td>\n",
       "      <td>0</td>\n",
       "      <td>0</td>\n",
       "      <td>0</td>\n",
       "      <td>0</td>\n",
       "      <td>1</td>\n",
       "    </tr>\n",
       "    <tr>\n",
       "      <th>3</th>\n",
       "      <td>1</td>\n",
       "      <td>181.00</td>\n",
       "      <td>181.0</td>\n",
       "      <td>0.00</td>\n",
       "      <td>C</td>\n",
       "      <td>21182.0</td>\n",
       "      <td>0.0</td>\n",
       "      <td>1</td>\n",
       "      <td>0</td>\n",
       "      <td>1</td>\n",
       "      <td>0</td>\n",
       "      <td>0</td>\n",
       "      <td>0</td>\n",
       "    </tr>\n",
       "    <tr>\n",
       "      <th>4</th>\n",
       "      <td>1</td>\n",
       "      <td>11668.14</td>\n",
       "      <td>41554.0</td>\n",
       "      <td>29885.86</td>\n",
       "      <td>M</td>\n",
       "      <td>0.0</td>\n",
       "      <td>0.0</td>\n",
       "      <td>0</td>\n",
       "      <td>0</td>\n",
       "      <td>0</td>\n",
       "      <td>0</td>\n",
       "      <td>1</td>\n",
       "      <td>0</td>\n",
       "    </tr>\n",
       "  </tbody>\n",
       "</table>\n",
       "</div>"
      ],
      "text/plain": [
       "   step    amount  oldbalanceOrg  newbalanceOrig nameDest  oldbalanceDest  \\\n",
       "0     1   9839.64       170136.0       160296.36        M             0.0   \n",
       "1     1   1864.28        21249.0        19384.72        M             0.0   \n",
       "2     1    181.00          181.0            0.00        C             0.0   \n",
       "3     1    181.00          181.0            0.00        C         21182.0   \n",
       "4     1  11668.14        41554.0        29885.86        M             0.0   \n",
       "\n",
       "   newbalanceDest  isFraud  CASH_IN  CASH_OUT  DEBIT  PAYMENT  TRANSFER  \n",
       "0             0.0        0        0         0      0        1         0  \n",
       "1             0.0        0        0         0      0        1         0  \n",
       "2             0.0        1        0         0      0        0         1  \n",
       "3             0.0        1        0         1      0        0         0  \n",
       "4             0.0        0        0         0      0        1         0  "
      ]
     },
     "execution_count": 18,
     "metadata": {},
     "output_type": "execute_result"
    }
   ],
   "source": [
    "fraud3 = pd.concat([fraud2, df], axis=1)\n",
    "fraud3 = fraud3.drop('type', axis=1)\n",
    "fraud3.head()"
   ]
  },
  {
   "cell_type": "code",
   "execution_count": 19,
   "metadata": {},
   "outputs": [
    {
     "data": {
      "text/html": [
       "<div>\n",
       "<style scoped>\n",
       "    .dataframe tbody tr th:only-of-type {\n",
       "        vertical-align: middle;\n",
       "    }\n",
       "\n",
       "    .dataframe tbody tr th {\n",
       "        vertical-align: top;\n",
       "    }\n",
       "\n",
       "    .dataframe thead th {\n",
       "        text-align: right;\n",
       "    }\n",
       "</style>\n",
       "<table border=\"1\" class=\"dataframe\">\n",
       "  <thead>\n",
       "    <tr style=\"text-align: right;\">\n",
       "      <th></th>\n",
       "      <th>step</th>\n",
       "      <th>amount</th>\n",
       "      <th>oldbalanceOrg</th>\n",
       "      <th>newbalanceOrig</th>\n",
       "      <th>nameDest</th>\n",
       "      <th>oldbalanceDest</th>\n",
       "      <th>newbalanceDest</th>\n",
       "      <th>isFraud</th>\n",
       "      <th>CASH_IN</th>\n",
       "      <th>CASH_OUT</th>\n",
       "      <th>DEBIT</th>\n",
       "      <th>PAYMENT</th>\n",
       "      <th>TRANSFER</th>\n",
       "    </tr>\n",
       "  </thead>\n",
       "  <tbody>\n",
       "    <tr>\n",
       "      <th>0</th>\n",
       "      <td>1</td>\n",
       "      <td>9839.64</td>\n",
       "      <td>170136.0</td>\n",
       "      <td>160296.36</td>\n",
       "      <td>0</td>\n",
       "      <td>0.0</td>\n",
       "      <td>0.0</td>\n",
       "      <td>0</td>\n",
       "      <td>0</td>\n",
       "      <td>0</td>\n",
       "      <td>0</td>\n",
       "      <td>1</td>\n",
       "      <td>0</td>\n",
       "    </tr>\n",
       "    <tr>\n",
       "      <th>1</th>\n",
       "      <td>1</td>\n",
       "      <td>1864.28</td>\n",
       "      <td>21249.0</td>\n",
       "      <td>19384.72</td>\n",
       "      <td>0</td>\n",
       "      <td>0.0</td>\n",
       "      <td>0.0</td>\n",
       "      <td>0</td>\n",
       "      <td>0</td>\n",
       "      <td>0</td>\n",
       "      <td>0</td>\n",
       "      <td>1</td>\n",
       "      <td>0</td>\n",
       "    </tr>\n",
       "    <tr>\n",
       "      <th>2</th>\n",
       "      <td>1</td>\n",
       "      <td>181.00</td>\n",
       "      <td>181.0</td>\n",
       "      <td>0.00</td>\n",
       "      <td>1</td>\n",
       "      <td>0.0</td>\n",
       "      <td>0.0</td>\n",
       "      <td>1</td>\n",
       "      <td>0</td>\n",
       "      <td>0</td>\n",
       "      <td>0</td>\n",
       "      <td>0</td>\n",
       "      <td>1</td>\n",
       "    </tr>\n",
       "    <tr>\n",
       "      <th>3</th>\n",
       "      <td>1</td>\n",
       "      <td>181.00</td>\n",
       "      <td>181.0</td>\n",
       "      <td>0.00</td>\n",
       "      <td>1</td>\n",
       "      <td>21182.0</td>\n",
       "      <td>0.0</td>\n",
       "      <td>1</td>\n",
       "      <td>0</td>\n",
       "      <td>1</td>\n",
       "      <td>0</td>\n",
       "      <td>0</td>\n",
       "      <td>0</td>\n",
       "    </tr>\n",
       "    <tr>\n",
       "      <th>4</th>\n",
       "      <td>1</td>\n",
       "      <td>11668.14</td>\n",
       "      <td>41554.0</td>\n",
       "      <td>29885.86</td>\n",
       "      <td>0</td>\n",
       "      <td>0.0</td>\n",
       "      <td>0.0</td>\n",
       "      <td>0</td>\n",
       "      <td>0</td>\n",
       "      <td>0</td>\n",
       "      <td>0</td>\n",
       "      <td>1</td>\n",
       "      <td>0</td>\n",
       "    </tr>\n",
       "  </tbody>\n",
       "</table>\n",
       "</div>"
      ],
      "text/plain": [
       "   step    amount  oldbalanceOrg  newbalanceOrig  nameDest  oldbalanceDest  \\\n",
       "0     1   9839.64       170136.0       160296.36         0             0.0   \n",
       "1     1   1864.28        21249.0        19384.72         0             0.0   \n",
       "2     1    181.00          181.0            0.00         1             0.0   \n",
       "3     1    181.00          181.0            0.00         1         21182.0   \n",
       "4     1  11668.14        41554.0        29885.86         0             0.0   \n",
       "\n",
       "   newbalanceDest  isFraud  CASH_IN  CASH_OUT  DEBIT  PAYMENT  TRANSFER  \n",
       "0             0.0        0        0         0      0        1         0  \n",
       "1             0.0        0        0         0      0        1         0  \n",
       "2             0.0        1        0         0      0        0         1  \n",
       "3             0.0        1        0         1      0        0         0  \n",
       "4             0.0        0        0         0      0        1         0  "
      ]
     },
     "execution_count": 19,
     "metadata": {},
     "output_type": "execute_result"
    }
   ],
   "source": [
    "# Codificación de la variable 'nameDest'\n",
    "fraud3 = fraud3.replace({'nameDest': {'M': 0, 'C': 1}})\n",
    "fraud3[['nameDest', 'isFraud']] = fraud3[['nameDest', 'isFraud']].astype(np.uint8)\n",
    "fraud3['step'] = fraud3['step'].astype(np.int16)\n",
    "fraud3.head()"
   ]
  },
  {
   "cell_type": "markdown",
   "metadata": {},
   "source": [
    "### Correlación entre variables\n",
    "\n",
    "Los siguientes análisis permiten determinar la existencia de relaciones o asociaciones entre variables. Evaluaremos los siguientes coeficientes:\n",
    "\n",
    "- Coeficiente de correlación de Spearman: se emplea para hallar relaciones entre pares de variables **numéricas-numéricas** conociendo que sus distribuciones no se correspondan con distribuciones normales. Se utilizará para hallar relaciones entre las variables independientes tipo numéricas.\n",
    "- Coeficiente de correlación de Kendall: se emplea para hallar relaciones entre pares de variables **numéricas-categóricas**, sin realizar suposiciones respecto a las distribuciones de las variables. Se utilizará para hallar relaciones entre las variables independientes tipo numéricas con la variable categórica objetivo.\n"
   ]
  },
  {
   "cell_type": "code",
   "execution_count": 20,
   "metadata": {},
   "outputs": [],
   "source": [
    "categorical_features = list(fraud3.select_dtypes(include=['uint8']).columns.values)\n",
    "numerical_features = list(set(fraud3.columns.values)-set(categorical_features))\n",
    "numerical_features_plus_target = numerical_features.copy()\n",
    "numerical_features_plus_target.append('isFraud')"
   ]
  },
  {
   "cell_type": "code",
   "execution_count": 21,
   "metadata": {},
   "outputs": [
    {
     "data": {
      "text/plain": [
       "<AxesSubplot:>"
      ]
     },
     "execution_count": 21,
     "metadata": {},
     "output_type": "execute_result"
    },
    {
     "data": {
      "image/png": "[encoded data removed]",
      "text/plain": [
       "<Figure size 1080x504 with 2 Axes>"
      ]
     },
     "metadata": {},
     "output_type": "display_data"
    }
   ],
   "source": [
    "# Matriz de correlación con coeficiente de Spearman, redondeo a 2 decimales. Asociacion entre variables numéricas-numéricas (independientes)\n",
    "corr_mat_spearman = fraud3[numerical_features].corr('spearman').round(2)\n",
    "fig,axes = plt.subplots(1,1,figsize=(15,7))\n",
    "sns.heatmap(data=corr_mat_spearman, annot=True, ax=axes)"
   ]
  },
  {
   "cell_type": "code",
   "execution_count": 22,
   "metadata": {},
   "outputs": [
    {
     "data": {
      "text/plain": [
       "newbalanceDest  oldbalanceDest    0.94\n",
       "newbalanceOrig  oldbalanceOrg     0.80\n",
       "dtype: float64"
      ]
     },
     "execution_count": 22,
     "metadata": {},
     "output_type": "execute_result"
    }
   ],
   "source": [
    "# Listado de variables numéricas continuas con fuerte asociación monotónica\n",
    "s = corr_mat_spearman.abs().unstack()\n",
    "so = s.sort_values(kind=\"quicksort\", ascending=False).drop_duplicates()\n",
    "so.loc[(so<1) & (so>0.79), :] "
   ]
  },
  {
   "cell_type": "code",
   "execution_count": 23,
   "metadata": {},
   "outputs": [
    {
     "name": "stderr",
     "output_type": "stream",
     "text": [
      "c:\\Users\\Asus\\AppData\\Local\\Programs\\Python\\Python310\\lib\\site-packages\\scipy\\stats\\_stats_py.py:4868: RuntimeWarning: overflow encountered in longlong_scalars\n",
      "  (2 * xtie * ytie) / m + x0 * y0 / (9 * m * (size - 2)))\n"
     ]
    },
    {
     "data": {
      "text/plain": [
       "<AxesSubplot:>"
      ]
     },
     "execution_count": 23,
     "metadata": {},
     "output_type": "execute_result"
    },
    {
     "data": {
      "image/png": "[encoded data removed]",
      "text/plain": [
       "<Figure size 1080x504 with 2 Axes>"
      ]
     },
     "metadata": {},
     "output_type": "display_data"
    }
   ],
   "source": [
    "correlation_matrix = fraud3.corr('kendall').round(2)\n",
    "fig,axes = plt.subplots(1,1,figsize=(15,7))\n",
    "sns.heatmap(data=correlation_matrix, annot=True,ax=axes)"
   ]
  },
  {
   "cell_type": "markdown",
   "metadata": {},
   "source": [
    "De la evaluación de las matrices de correlación precedentes, se concluye que las variables fuertemente asociadas son 'oldbalanceDest' con 'newbalanceDest', 'oldbalanceOrg' con 'newbalanceOrig', y 'nameDest' y 'PAYMENT' (presentando este último par una colinealidad perfecta). En conclusión, se removerán las columnas 'oldbalanceDest', 'newbalanceOrig', y 'nameDest'."
   ]
  },
  {
   "cell_type": "code",
   "execution_count": 24,
   "metadata": {},
   "outputs": [
    {
     "data": {
      "text/html": [
       "<div>\n",
       "<style scoped>\n",
       "    .dataframe tbody tr th:only-of-type {\n",
       "        vertical-align: middle;\n",
       "    }\n",
       "\n",
       "    .dataframe tbody tr th {\n",
       "        vertical-align: top;\n",
       "    }\n",
       "\n",
       "    .dataframe thead th {\n",
       "        text-align: right;\n",
       "    }\n",
       "</style>\n",
       "<table border=\"1\" class=\"dataframe\">\n",
       "  <thead>\n",
       "    <tr style=\"text-align: right;\">\n",
       "      <th></th>\n",
       "      <th>step</th>\n",
       "      <th>amount</th>\n",
       "      <th>oldbalanceOrg</th>\n",
       "      <th>newbalanceDest</th>\n",
       "      <th>isFraud</th>\n",
       "      <th>CASH_IN</th>\n",
       "      <th>CASH_OUT</th>\n",
       "      <th>DEBIT</th>\n",
       "      <th>PAYMENT</th>\n",
       "      <th>TRANSFER</th>\n",
       "    </tr>\n",
       "  </thead>\n",
       "  <tbody>\n",
       "    <tr>\n",
       "      <th>0</th>\n",
       "      <td>1</td>\n",
       "      <td>9839.64</td>\n",
       "      <td>170136.0</td>\n",
       "      <td>0.0</td>\n",
       "      <td>0</td>\n",
       "      <td>0</td>\n",
       "      <td>0</td>\n",
       "      <td>0</td>\n",
       "      <td>1</td>\n",
       "      <td>0</td>\n",
       "    </tr>\n",
       "    <tr>\n",
       "      <th>1</th>\n",
       "      <td>1</td>\n",
       "      <td>1864.28</td>\n",
       "      <td>21249.0</td>\n",
       "      <td>0.0</td>\n",
       "      <td>0</td>\n",
       "      <td>0</td>\n",
       "      <td>0</td>\n",
       "      <td>0</td>\n",
       "      <td>1</td>\n",
       "      <td>0</td>\n",
       "    </tr>\n",
       "    <tr>\n",
       "      <th>2</th>\n",
       "      <td>1</td>\n",
       "      <td>181.00</td>\n",
       "      <td>181.0</td>\n",
       "      <td>0.0</td>\n",
       "      <td>1</td>\n",
       "      <td>0</td>\n",
       "      <td>0</td>\n",
       "      <td>0</td>\n",
       "      <td>0</td>\n",
       "      <td>1</td>\n",
       "    </tr>\n",
       "    <tr>\n",
       "      <th>3</th>\n",
       "      <td>1</td>\n",
       "      <td>181.00</td>\n",
       "      <td>181.0</td>\n",
       "      <td>0.0</td>\n",
       "      <td>1</td>\n",
       "      <td>0</td>\n",
       "      <td>1</td>\n",
       "      <td>0</td>\n",
       "      <td>0</td>\n",
       "      <td>0</td>\n",
       "    </tr>\n",
       "    <tr>\n",
       "      <th>4</th>\n",
       "      <td>1</td>\n",
       "      <td>11668.14</td>\n",
       "      <td>41554.0</td>\n",
       "      <td>0.0</td>\n",
       "      <td>0</td>\n",
       "      <td>0</td>\n",
       "      <td>0</td>\n",
       "      <td>0</td>\n",
       "      <td>1</td>\n",
       "      <td>0</td>\n",
       "    </tr>\n",
       "  </tbody>\n",
       "</table>\n",
       "</div>"
      ],
      "text/plain": [
       "   step    amount  oldbalanceOrg  newbalanceDest  isFraud  CASH_IN  CASH_OUT  \\\n",
       "0     1   9839.64       170136.0             0.0        0        0         0   \n",
       "1     1   1864.28        21249.0             0.0        0        0         0   \n",
       "2     1    181.00          181.0             0.0        1        0         0   \n",
       "3     1    181.00          181.0             0.0        1        0         1   \n",
       "4     1  11668.14        41554.0             0.0        0        0         0   \n",
       "\n",
       "   DEBIT  PAYMENT  TRANSFER  \n",
       "0      0        1         0  \n",
       "1      0        1         0  \n",
       "2      0        0         1  \n",
       "3      0        0         0  \n",
       "4      0        1         0  "
      ]
     },
     "execution_count": 24,
     "metadata": {},
     "output_type": "execute_result"
    }
   ],
   "source": [
    "cols_to_drop = ['nameDest', 'oldbalanceDest', 'newbalanceOrig']\n",
    "fraud4 = fraud3.drop(cols_to_drop, axis=1)\n",
    "fraud4.head()"
   ]
  },
  {
   "cell_type": "markdown",
   "metadata": {},
   "source": [
    "---"
   ]
  },
  {
   "cell_type": "markdown",
   "metadata": {},
   "source": [
    "## 3. Evaluación de modelos"
   ]
  },
  {
   "cell_type": "markdown",
   "metadata": {},
   "source": [
    "En este apartado se evaluará el desempeño de los siguientes modelos de clasifición binaria, los cuales han sido desarrollados en el transcurso de las clases:\n",
    "- Regresión logística\n",
    "- Arboles de decisión\n",
    "- Random forest\n",
    "\n",
    "A continuación seleccionamos la columna 'isFraud' como variable target, y creamos una partición del dataset en train y test, usando un 20% de los datos para test y estratificando las muestras. Dicha partición va a ser común a todos los modelos con el fin de poder realizar comparaciones de las métricas corresponientes. "
   ]
  },
  {
   "cell_type": "code",
   "execution_count": 25,
   "metadata": {},
   "outputs": [],
   "source": [
    "# Definimos dataframe de predictores y variable target\n",
    "target = 'isFraud'\n",
    "X = fraud4.loc[:, fraud4.columns != target]\n",
    "y = fraud4[target]"
   ]
  },
  {
   "cell_type": "code",
   "execution_count": 26,
   "metadata": {},
   "outputs": [
    {
     "name": "stdout",
     "output_type": "stream",
     "text": [
      "Tamaño de los conjuntos de train y test: 5090096 y 1272524\n"
     ]
    }
   ],
   "source": [
    "# Partición del dataset en conjuntos de train y test, usando un 20% de los datos para test y estratificando las muestras\n",
    "from sklearn.model_selection import train_test_split\n",
    "X_train, X_test, y_train, y_test = train_test_split(X, y, stratify=y, random_state=12, test_size=0.2)\n",
    "print('Tamaño de los conjuntos de train y test:',len(X_train),'y',len(X_test))"
   ]
  },
  {
   "cell_type": "code",
   "execution_count": 27,
   "metadata": {},
   "outputs": [
    {
     "name": "stdout",
     "output_type": "stream",
     "text": [
      "0    0.998709\n",
      "1    0.001291\n",
      "Name: isFraud, dtype: float64\n",
      "0    0.998709\n",
      "1    0.001291\n",
      "Name: isFraud, dtype: float64\n"
     ]
    }
   ],
   "source": [
    "# Chequeo de estratificacion de clases en las variables target de train y test\n",
    "print(y_train.value_counts()/len(y_train))\n",
    "print(y_test.value_counts()/len(y_test))"
   ]
  },
  {
   "cell_type": "markdown",
   "metadata": {},
   "source": [
    "Para tratar el problema del desbalanceo de las clases en la variable target, se implementa el método de **under-sampling con reposición**. El motivo de la elección de esta técnica radica en la necesidad de contar con un subconjunto reducido del dataset original para que pueda ser manipulado localmente con los recursos computacionales disponibles. "
   ]
  },
  {
   "cell_type": "markdown",
   "metadata": {},
   "source": [
    "*Nota 1: se definirá un pipeline para manipular automáticamente los subconjuntos under-sampleados, y de esta manera evitar la pérdida de información (data leakage).*"
   ]
  },
  {
   "cell_type": "code",
   "execution_count": 28,
   "metadata": {},
   "outputs": [],
   "source": [
    "from imblearn.under_sampling import RandomUnderSampler\n",
    "from imblearn.over_sampling import RandomOverSampler\n",
    "from imblearn.pipeline import make_pipeline\n",
    "from imblearn.pipeline import Pipeline"
   ]
  },
  {
   "cell_type": "markdown",
   "metadata": {},
   "source": [
    "La evaluación del desempeño de los modelos se realizará con métricas de precisión y recall."
   ]
  },
  {
   "cell_type": "markdown",
   "metadata": {},
   "source": [
    "### 3.1. Regresión logística"
   ]
  },
  {
   "cell_type": "markdown",
   "metadata": {},
   "source": [
    "### 3.1.1. Datos originales (sin balancear clases en variable target) "
   ]
  },
  {
   "cell_type": "code",
   "execution_count": 29,
   "metadata": {},
   "outputs": [],
   "source": [
    "from sklearn.linear_model import LogisticRegression, LogisticRegressionCV\n",
    "from sklearn.compose import ColumnTransformer\n",
    "from sklearn.preprocessing import StandardScaler\n",
    "from sklearn.decomposition import PCA\n",
    "from sklearn.metrics import accuracy_score, plot_confusion_matrix, roc_auc_score, classification_report, confusion_matrix, precision_recall_curve, auc\n"
   ]
  },
  {
   "cell_type": "code",
   "execution_count": 30,
   "metadata": {},
   "outputs": [],
   "source": [
    "lista_prec0, lista_rec0, lista_prec1, lista_rec1, lista_balacc = [], [], [], [], []"
   ]
  },
  {
   "cell_type": "code",
   "execution_count": 31,
   "metadata": {},
   "outputs": [],
   "source": [
    "# Función para obtener métricas sobre el modelo ajustado\n",
    "def report(model, X_train, X_test, y_train, y_test):\n",
    "    \n",
    "    model.fit(X_train,y_train)\n",
    "    y_pred = model.predict(X_test)\n",
    "    y_proba = model.predict_proba(X_test)\n",
    "    cr = classification_report(y_test, y_pred, output_dict=True)\n",
    "\n",
    "    print(classification_report(y_test, y_pred))\n",
    "    print('Area bajo la curva ROC:',np.round(roc_auc_score(y_test, y_proba[:,1]), 4))\n",
    "    precision, recall, threshold = precision_recall_curve(y_test, y_proba[:,1])\n",
    "    print('Area bajo la curva Precision-Recall:',np.round(auc(recall, precision), 4))\n",
    "    plot_confusion_matrix(model, X_test, y_test, cmap='Blues')\n",
    "\n",
    "    return model, cr"
   ]
  },
  {
   "cell_type": "code",
   "execution_count": 32,
   "metadata": {},
   "outputs": [],
   "source": [
    "# Seleccion de features para estandarizar (sólo variables numéricas)\n",
    "numeric_features = list(fraud4.select_dtypes(include='float64').columns.values)\n",
    "numeric_features.append('step')\n",
    "numeric_transformer = Pipeline(steps=[('scaler', StandardScaler())])\n",
    "\n",
    "# Creación del modelo a través de pipeline\n",
    "lr_model = make_pipeline(\n",
    "    ColumnTransformer(transformers=[('num', numeric_transformer, numeric_features)]),\n",
    "    LogisticRegressionCV(random_state=0)\n",
    ")"
   ]
  },
  {
   "cell_type": "code",
   "execution_count": 33,
   "metadata": {},
   "outputs": [
    {
     "name": "stdout",
     "output_type": "stream",
     "text": [
      "              precision    recall  f1-score   support\n",
      "\n",
      "           0       1.00      1.00      1.00   1270881\n",
      "           1       0.65      0.06      0.12      1643\n",
      "\n",
      "    accuracy                           1.00   1272524\n",
      "   macro avg       0.83      0.53      0.56   1272524\n",
      "weighted avg       1.00      1.00      1.00   1272524\n",
      "\n",
      "Area bajo la curva ROC: 0.7756\n",
      "Area bajo la curva Precision-Recall: 0.1275\n"
     ]
    },
    {
     "name": "stderr",
     "output_type": "stream",
     "text": [
      "c:\\Users\\Asus\\AppData\\Local\\Programs\\Python\\Python310\\lib\\site-packages\\sklearn\\utils\\deprecation.py:87: FutureWarning: Function plot_confusion_matrix is deprecated; Function `plot_confusion_matrix` is deprecated in 1.0 and will be removed in 1.2. Use one of the class methods: ConfusionMatrixDisplay.from_predictions or ConfusionMatrixDisplay.from_estimator.\n",
      "  warnings.warn(msg, category=FutureWarning)\n"
     ]
    },
    {
     "data": {
      "image/png": "[encoded data removed]",
      "text/plain": [
       "<Figure size 432x288 with 2 Axes>"
      ]
     },
     "metadata": {},
     "output_type": "display_data"
    }
   ],
   "source": [
    "# Ajuste del modelo y reporte de métricas\n",
    "lr_model_fit, cr_lr = report(lr_model, X_train, X_test, y_train, y_test)"
   ]
  },
  {
   "cell_type": "code",
   "execution_count": 34,
   "metadata": {},
   "outputs": [],
   "source": [
    "lista_prec0.append(cr_lr['0']['precision'])\n",
    "lista_rec0.append(cr_lr['0']['recall'])\n",
    "lista_prec1.append(cr_lr['1']['precision'])\n",
    "lista_rec1.append(cr_lr['1']['recall'])\n",
    "lista_balacc.append([])"
   ]
  },
  {
   "cell_type": "markdown",
   "metadata": {},
   "source": [
    "### 3.1.2. Aplicando under-sampling"
   ]
  },
  {
   "cell_type": "code",
   "execution_count": 35,
   "metadata": {},
   "outputs": [],
   "source": [
    "# Creación del modelo con estrategia de under sampling\n",
    "lr_model_us = make_pipeline(\n",
    "    ColumnTransformer(transformers=[('num', numeric_transformer, numeric_features)]),\n",
    "    RandomUnderSampler(random_state=0, replacement=True),\n",
    "    LogisticRegressionCV(random_state=0)\n",
    ")"
   ]
  },
  {
   "cell_type": "code",
   "execution_count": 36,
   "metadata": {},
   "outputs": [
    {
     "name": "stdout",
     "output_type": "stream",
     "text": [
      "              precision    recall  f1-score   support\n",
      "\n",
      "           0       1.00      0.88      0.93   1270881\n",
      "           1       0.01      0.68      0.01      1643\n",
      "\n",
      "    accuracy                           0.88   1272524\n",
      "   macro avg       0.50      0.78      0.47   1272524\n",
      "weighted avg       1.00      0.88      0.93   1272524\n",
      "\n",
      "Area bajo la curva ROC: 0.8172\n",
      "Area bajo la curva Precision-Recall: 0.0243\n"
     ]
    },
    {
     "name": "stderr",
     "output_type": "stream",
     "text": [
      "c:\\Users\\Asus\\AppData\\Local\\Programs\\Python\\Python310\\lib\\site-packages\\sklearn\\utils\\deprecation.py:87: FutureWarning: Function plot_confusion_matrix is deprecated; Function `plot_confusion_matrix` is deprecated in 1.0 and will be removed in 1.2. Use one of the class methods: ConfusionMatrixDisplay.from_predictions or ConfusionMatrixDisplay.from_estimator.\n",
      "  warnings.warn(msg, category=FutureWarning)\n"
     ]
    },
    {
     "data": {
      "image/png": "[encoded data removed]",
      "text/plain": [
       "<Figure size 432x288 with 2 Axes>"
      ]
     },
     "metadata": {},
     "output_type": "display_data"
    }
   ],
   "source": [
    "# Ajuste del modelo y reporte de métricas\n",
    "lr_model_us_fit, cr_lr_us = report(lr_model_us, X_train, X_test, y_train, y_test)"
   ]
  },
  {
   "cell_type": "code",
   "execution_count": 37,
   "metadata": {},
   "outputs": [],
   "source": [
    "lista_prec0.append(cr_lr_us['0']['precision'])\n",
    "lista_rec0.append(cr_lr_us['0']['recall'])\n",
    "lista_prec1.append(cr_lr_us['1']['precision'])\n",
    "lista_rec1.append(cr_lr_us['1']['recall'])\n",
    "lista_balacc.append([])"
   ]
  },
  {
   "cell_type": "markdown",
   "metadata": {},
   "source": [
    "### 3.1.3. Aplicando under-sampling con métrica \"balanced_accuracy\""
   ]
  },
  {
   "cell_type": "markdown",
   "metadata": {},
   "source": [
    "La documentación de *imbalanced-learn* (https://imbalanced-learn.org/stable/common_pitfalls.html) recomienda el uso de la métrica *balanced_accuracy* para evaluar la performance del modelo elegido en presencia de clases desbalanceadas. A su vez, muestra una estrategia de ajuste del modelo mediante validacion cruzada, luego de la cual se obtiene un valor promediado de dicha métrica.\n",
    "\n",
    "La métrica de *balaced accuracy* se define como el promedio entre el recall y la especificidad, la cual mide la proporción de ocurrencias negativas correctamente identificadas sobre el total de predicciones negativas realizadas por el modelo."
   ]
  },
  {
   "cell_type": "code",
   "execution_count": 38,
   "metadata": {},
   "outputs": [
    {
     "name": "stdout",
     "output_type": "stream",
     "text": [
      "Balanced accuracy mean +/- std. dev.: 0.788 +/- 0.003\n"
     ]
    }
   ],
   "source": [
    "from sklearn.model_selection import cross_validate\n",
    "lr_model_usCV = make_pipeline(\n",
    "    ColumnTransformer(transformers=[('num', numeric_transformer, numeric_features)]),\n",
    "    RandomUnderSampler(random_state=0, replacement=True),\n",
    "    LogisticRegression(random_state=0)\n",
    ")\n",
    "cv_results = cross_validate(\n",
    "    lr_model_usCV, X_train, y_train, scoring=\"balanced_accuracy\",\n",
    "    return_train_score=True, return_estimator=True,\n",
    "    n_jobs=-1\n",
    ")\n",
    "print(\n",
    "    f\"Balanced accuracy mean +/- std. dev.: \"\n",
    "    f\"{cv_results['test_score'].mean():.3f} +/- \"\n",
    "    f\"{cv_results['test_score'].std():.3f}\"\n",
    ")"
   ]
  },
  {
   "cell_type": "code",
   "execution_count": 39,
   "metadata": {},
   "outputs": [
    {
     "name": "stdout",
     "output_type": "stream",
     "text": [
      "Balanced accuracy mean +/- std. dev.: 0.777 +/- 0.001\n"
     ]
    }
   ],
   "source": [
    "from sklearn.metrics import balanced_accuracy_score\n",
    "scores = []\n",
    "for fold_id, cv_model in enumerate(cv_results[\"estimator\"]):\n",
    "    scores.append(\n",
    "        balanced_accuracy_score(\n",
    "            y_test, cv_model.predict(X_test)\n",
    "       )\n",
    "    )\n",
    "print(\n",
    "    f\"Balanced accuracy mean +/- std. dev.: \"\n",
    "    f\"{np.mean(scores):.3f} +/- {np.std(scores):.3f}\"\n",
    ")"
   ]
  },
  {
   "cell_type": "code",
   "execution_count": 40,
   "metadata": {},
   "outputs": [],
   "source": [
    "lista_prec0.append([])\n",
    "lista_rec0.append([])\n",
    "lista_prec1.append([])\n",
    "lista_rec1.append([])\n",
    "lista_balacc.append(np.mean(scores))"
   ]
  },
  {
   "cell_type": "markdown",
   "metadata": {},
   "source": [
    "### 3.2. Árboles de decisión"
   ]
  },
  {
   "cell_type": "markdown",
   "metadata": {},
   "source": [
    "### 3.2.1. Datos originales (sin balancear clases en variable target) "
   ]
  },
  {
   "cell_type": "code",
   "execution_count": 41,
   "metadata": {},
   "outputs": [],
   "source": [
    "from sklearn.tree import DecisionTreeClassifier\n",
    "from sklearn.model_selection import GridSearchCV"
   ]
  },
  {
   "cell_type": "code",
   "execution_count": 42,
   "metadata": {},
   "outputs": [],
   "source": [
    "# Arbol de decisión con profundidad 10\n",
    "dt_model = make_pipeline(\n",
    "    ColumnTransformer(transformers=[('num', numeric_transformer, numeric_features)]),\n",
    "    DecisionTreeClassifier(criterion='entropy', random_state=0)\n",
    ")"
   ]
  },
  {
   "cell_type": "code",
   "execution_count": 43,
   "metadata": {},
   "outputs": [
    {
     "name": "stdout",
     "output_type": "stream",
     "text": [
      "              precision    recall  f1-score   support\n",
      "\n",
      "           0       1.00      1.00      1.00   1270881\n",
      "           1       0.65      0.65      0.65      1643\n",
      "\n",
      "    accuracy                           1.00   1272524\n",
      "   macro avg       0.82      0.82      0.82   1272524\n",
      "weighted avg       1.00      1.00      1.00   1272524\n",
      "\n",
      "Area bajo la curva ROC: 0.8248\n",
      "Area bajo la curva Precision-Recall: 0.6481\n"
     ]
    },
    {
     "name": "stderr",
     "output_type": "stream",
     "text": [
      "c:\\Users\\Asus\\AppData\\Local\\Programs\\Python\\Python310\\lib\\site-packages\\sklearn\\utils\\deprecation.py:87: FutureWarning: Function plot_confusion_matrix is deprecated; Function `plot_confusion_matrix` is deprecated in 1.0 and will be removed in 1.2. Use one of the class methods: ConfusionMatrixDisplay.from_predictions or ConfusionMatrixDisplay.from_estimator.\n",
      "  warnings.warn(msg, category=FutureWarning)\n"
     ]
    },
    {
     "data": {
      "image/png": "[encoded data removed]",
      "text/plain": [
       "<Figure size 432x288 with 2 Axes>"
      ]
     },
     "metadata": {},
     "output_type": "display_data"
    }
   ],
   "source": [
    "# Ajuste del modelo y reporte de métricas\n",
    "dt_model_fit, cr_dt = report(dt_model, X_train, X_test, y_train, y_test)"
   ]
  },
  {
   "cell_type": "code",
   "execution_count": 44,
   "metadata": {},
   "outputs": [],
   "source": [
    "lista_prec0.append(cr_dt['0']['precision'])\n",
    "lista_rec0.append(cr_dt['0']['recall'])\n",
    "lista_prec1.append(cr_dt['1']['precision'])\n",
    "lista_rec1.append(cr_dt['1']['recall'])\n",
    "lista_balacc.append([])"
   ]
  },
  {
   "cell_type": "markdown",
   "metadata": {},
   "source": [
    "### 3.2.2. Aplicando under-sampling"
   ]
  },
  {
   "cell_type": "code",
   "execution_count": 45,
   "metadata": {},
   "outputs": [],
   "source": [
    "dt_model_us = make_pipeline(\n",
    "    ColumnTransformer(transformers=[('num', numeric_transformer, numeric_features)]),\n",
    "    RandomUnderSampler(random_state=0, replacement=True),\n",
    "    DecisionTreeClassifier(criterion='entropy', random_state=0, max_depth=10)\n",
    ")"
   ]
  },
  {
   "cell_type": "code",
   "execution_count": 46,
   "metadata": {},
   "outputs": [
    {
     "name": "stdout",
     "output_type": "stream",
     "text": [
      "              precision    recall  f1-score   support\n",
      "\n",
      "           0       1.00      0.93      0.96   1270881\n",
      "           1       0.02      0.96      0.03      1643\n",
      "\n",
      "    accuracy                           0.93   1272524\n",
      "   macro avg       0.51      0.94      0.50   1272524\n",
      "weighted avg       1.00      0.93      0.96   1272524\n",
      "\n",
      "Area bajo la curva ROC: 0.9827\n",
      "Area bajo la curva Precision-Recall: 0.2963\n"
     ]
    },
    {
     "name": "stderr",
     "output_type": "stream",
     "text": [
      "c:\\Users\\Asus\\AppData\\Local\\Programs\\Python\\Python310\\lib\\site-packages\\sklearn\\utils\\deprecation.py:87: FutureWarning: Function plot_confusion_matrix is deprecated; Function `plot_confusion_matrix` is deprecated in 1.0 and will be removed in 1.2. Use one of the class methods: ConfusionMatrixDisplay.from_predictions or ConfusionMatrixDisplay.from_estimator.\n",
      "  warnings.warn(msg, category=FutureWarning)\n"
     ]
    },
    {
     "data": {
      "image/png": "[encoded data removed]",
      "text/plain": [
       "<Figure size 432x288 with 2 Axes>"
      ]
     },
     "metadata": {},
     "output_type": "display_data"
    }
   ],
   "source": [
    "# Ajuste del modelo y reporte de métricas\n",
    "dt_model_us_fit, cr_us_fit = report(dt_model_us, X_train, X_test, y_train, y_test)"
   ]
  },
  {
   "cell_type": "code",
   "execution_count": 47,
   "metadata": {},
   "outputs": [],
   "source": [
    "lista_prec0.append(cr_us_fit['0']['precision'])\n",
    "lista_rec0.append(cr_us_fit['0']['recall'])\n",
    "lista_prec1.append(cr_us_fit['1']['precision'])\n",
    "lista_rec1.append(cr_us_fit['1']['recall'])\n",
    "lista_balacc.append([])"
   ]
  },
  {
   "cell_type": "markdown",
   "metadata": {},
   "source": [
    "### 3.2.3. Aplicando under-sampling con métrica \"balanced_accuracy\""
   ]
  },
  {
   "cell_type": "code",
   "execution_count": 48,
   "metadata": {},
   "outputs": [
    {
     "name": "stdout",
     "output_type": "stream",
     "text": [
      "Balanced accuracy mean +/- std. dev.: 0.950 +/- 0.003\n"
     ]
    }
   ],
   "source": [
    "dt_model_usCV = make_pipeline(\n",
    "    ColumnTransformer(transformers=[('num', numeric_transformer, numeric_features)]),\n",
    "    RandomUnderSampler(random_state=0, replacement=True),\n",
    "    DecisionTreeClassifier(criterion='entropy', random_state=0, max_depth=10)\n",
    ")\n",
    "cv_results = cross_validate(\n",
    "    dt_model_usCV, X_train, y_train, scoring=\"balanced_accuracy\",\n",
    "    return_train_score=True, return_estimator=True,\n",
    "    n_jobs=-1\n",
    ")\n",
    "print(\n",
    "    f\"Balanced accuracy mean +/- std. dev.: \"\n",
    "    f\"{cv_results['test_score'].mean():.3f} +/- \"\n",
    "    f\"{cv_results['test_score'].std():.3f}\"\n",
    ")"
   ]
  },
  {
   "cell_type": "code",
   "execution_count": 49,
   "metadata": {},
   "outputs": [
    {
     "name": "stdout",
     "output_type": "stream",
     "text": [
      "Balanced accuracy mean +/- std. dev.: 0.949 +/- 0.004\n"
     ]
    }
   ],
   "source": [
    "scores = []\n",
    "for fold_id, cv_model in enumerate(cv_results[\"estimator\"]):\n",
    "    scores.append(\n",
    "        balanced_accuracy_score(\n",
    "            y_test, cv_model.predict(X_test)\n",
    "       )\n",
    "    )\n",
    "print(\n",
    "    f\"Balanced accuracy mean +/- std. dev.: \"\n",
    "    f\"{np.mean(scores):.3f} +/- {np.std(scores):.3f}\"\n",
    ")"
   ]
  },
  {
   "cell_type": "code",
   "execution_count": 50,
   "metadata": {},
   "outputs": [],
   "source": [
    "lista_prec0.append([])\n",
    "lista_rec0.append([])\n",
    "lista_prec1.append([])\n",
    "lista_rec1.append([])\n",
    "lista_balacc.append(np.mean(scores))"
   ]
  },
  {
   "cell_type": "markdown",
   "metadata": {},
   "source": []
  },
  {
   "cell_type": "markdown",
   "metadata": {},
   "source": [
    "### 3.3. Random forest"
   ]
  },
  {
   "cell_type": "code",
   "execution_count": 51,
   "metadata": {},
   "outputs": [],
   "source": [
    "from sklearn.ensemble import RandomForestClassifier"
   ]
  },
  {
   "cell_type": "markdown",
   "metadata": {},
   "source": [
    "### 3.3.1. Utilizando todo el dataset"
   ]
  },
  {
   "cell_type": "code",
   "execution_count": 52,
   "metadata": {},
   "outputs": [],
   "source": [
    "rf_model = make_pipeline(\n",
    "    ColumnTransformer(transformers=[('num', numeric_transformer, numeric_features)]),\n",
    "    RandomForestClassifier(criterion='entropy', random_state=23)\n",
    ")"
   ]
  },
  {
   "cell_type": "code",
   "execution_count": 53,
   "metadata": {},
   "outputs": [],
   "source": [
    "# Implementación de búsqueda de profundidad óptima del árbol utilizando cross-validation\n",
    "n_estimators = [10] #Evaluo solo una profundidad\n",
    "parameters = dict(randomforestclassifier__n_estimators=n_estimators)\n",
    "rf_modelCV = GridSearchCV(rf_model, parameters)"
   ]
  },
  {
   "cell_type": "code",
   "execution_count": 54,
   "metadata": {},
   "outputs": [
    {
     "name": "stdout",
     "output_type": "stream",
     "text": [
      "              precision    recall  f1-score   support\n",
      "\n",
      "           0       1.00      1.00      1.00   1270881\n",
      "           1       0.95      0.59      0.73      1643\n",
      "\n",
      "    accuracy                           1.00   1272524\n",
      "   macro avg       0.97      0.79      0.86   1272524\n",
      "weighted avg       1.00      1.00      1.00   1272524\n",
      "\n",
      "Area bajo la curva ROC: 0.928\n",
      "Area bajo la curva Precision-Recall: 0.7818\n"
     ]
    },
    {
     "name": "stderr",
     "output_type": "stream",
     "text": [
      "c:\\Users\\Asus\\AppData\\Local\\Programs\\Python\\Python310\\lib\\site-packages\\sklearn\\utils\\deprecation.py:87: FutureWarning: Function plot_confusion_matrix is deprecated; Function `plot_confusion_matrix` is deprecated in 1.0 and will be removed in 1.2. Use one of the class methods: ConfusionMatrixDisplay.from_predictions or ConfusionMatrixDisplay.from_estimator.\n",
      "  warnings.warn(msg, category=FutureWarning)\n"
     ]
    },
    {
     "data": {
      "image/png": "[encoded data removed]",
      "text/plain": [
       "<Figure size 432x288 with 2 Axes>"
      ]
     },
     "metadata": {},
     "output_type": "display_data"
    }
   ],
   "source": [
    "# Ajuste del modelo y reporte de métricas\n",
    "rf_modelCVfit, cr_rf = report(rf_modelCV, X_train, X_test, y_train, y_test)"
   ]
  },
  {
   "cell_type": "code",
   "execution_count": 55,
   "metadata": {},
   "outputs": [],
   "source": [
    "lista_prec0.append(cr_rf['0']['precision'])\n",
    "lista_rec0.append(cr_rf['0']['recall'])\n",
    "lista_prec1.append(cr_rf['1']['precision'])\n",
    "lista_rec1.append(cr_rf['1']['recall'])\n",
    "lista_balacc.append([])"
   ]
  },
  {
   "cell_type": "markdown",
   "metadata": {},
   "source": [
    "### 3.3.2. Aplicando under-sampling"
   ]
  },
  {
   "cell_type": "code",
   "execution_count": 56,
   "metadata": {},
   "outputs": [],
   "source": [
    "rf_model_us = make_pipeline(\n",
    "    ColumnTransformer(transformers=[('num', numeric_transformer, numeric_features)]),\n",
    "    RandomUnderSampler(random_state=0, replacement=True, sampling_strategy='majority'),\n",
    "    RandomForestClassifier(criterion='entropy', random_state=23)\n",
    ")"
   ]
  },
  {
   "cell_type": "code",
   "execution_count": 57,
   "metadata": {},
   "outputs": [],
   "source": [
    "# Implementación de búsqueda de profundidad óptima del árbol utilizando cross-validation\n",
    "n_estimators = [10, 15, 20, 25, 30]\n",
    "parameters = dict(randomforestclassifier__n_estimators=n_estimators)\n",
    "rf_model_us_CV = GridSearchCV(rf_model_us, parameters) "
   ]
  },
  {
   "cell_type": "code",
   "execution_count": 58,
   "metadata": {},
   "outputs": [
    {
     "name": "stdout",
     "output_type": "stream",
     "text": [
      "              precision    recall  f1-score   support\n",
      "\n",
      "           0       1.00      0.96      0.98   1270881\n",
      "           1       0.03      0.96      0.07      1643\n",
      "\n",
      "    accuracy                           0.96   1272524\n",
      "   macro avg       0.52      0.96      0.52   1272524\n",
      "weighted avg       1.00      0.96      0.98   1272524\n",
      "\n",
      "Area bajo la curva ROC: 0.9936\n",
      "Area bajo la curva Precision-Recall: 0.5101\n"
     ]
    },
    {
     "name": "stderr",
     "output_type": "stream",
     "text": [
      "c:\\Users\\Asus\\AppData\\Local\\Programs\\Python\\Python310\\lib\\site-packages\\sklearn\\utils\\deprecation.py:87: FutureWarning: Function plot_confusion_matrix is deprecated; Function `plot_confusion_matrix` is deprecated in 1.0 and will be removed in 1.2. Use one of the class methods: ConfusionMatrixDisplay.from_predictions or ConfusionMatrixDisplay.from_estimator.\n",
      "  warnings.warn(msg, category=FutureWarning)\n"
     ]
    },
    {
     "data": {
      "image/png": "[encoded data removed]",
      "text/plain": [
       "<Figure size 432x288 with 2 Axes>"
      ]
     },
     "metadata": {},
     "output_type": "display_data"
    }
   ],
   "source": [
    "# Ajuste del modelo y reporte de métricas\n",
    "rf_model_us_CV_fit, cr_rf_usCV = report(rf_model_us_CV, X_train, X_test, y_train, y_test)"
   ]
  },
  {
   "cell_type": "code",
   "execution_count": 59,
   "metadata": {},
   "outputs": [
    {
     "data": {
      "text/plain": [
       "{'randomforestclassifier__n_estimators': 10}"
      ]
     },
     "execution_count": 59,
     "metadata": {},
     "output_type": "execute_result"
    }
   ],
   "source": [
    "# Profundidad optima lograda a partir de CV\n",
    "rf_modelCVfit.best_params_"
   ]
  },
  {
   "cell_type": "code",
   "execution_count": 60,
   "metadata": {},
   "outputs": [],
   "source": [
    "lista_prec0.append(cr_rf_usCV['0']['precision'])\n",
    "lista_rec0.append(cr_rf_usCV['0']['recall'])\n",
    "lista_prec1.append(cr_rf_usCV['1']['precision'])\n",
    "lista_rec1.append(cr_rf_usCV['1']['recall'])\n",
    "lista_balacc.append([])"
   ]
  },
  {
   "cell_type": "markdown",
   "metadata": {},
   "source": [
    "### 3.3.3. Aplicando under-sampling con métrica \"balanced_accuracy\""
   ]
  },
  {
   "cell_type": "code",
   "execution_count": 61,
   "metadata": {},
   "outputs": [
    {
     "name": "stdout",
     "output_type": "stream",
     "text": [
      "Balanced accuracy mean +/- std. dev.: 0.964 +/- 0.002\n"
     ]
    }
   ],
   "source": [
    "rf_model_usCV = make_pipeline(\n",
    "    ColumnTransformer(transformers=[('num', numeric_transformer, numeric_features)]),\n",
    "    RandomUnderSampler(random_state=0, replacement=True),\n",
    "    RandomForestClassifier(criterion='entropy', random_state=23, max_depth=10)\n",
    ")\n",
    "cv_results = cross_validate(\n",
    "    rf_model_usCV, X_train, y_train, scoring=\"balanced_accuracy\",\n",
    "    return_train_score=True, return_estimator=True,\n",
    "    n_jobs=-1\n",
    ")\n",
    "print(\n",
    "    f\"Balanced accuracy mean +/- std. dev.: \"\n",
    "    f\"{cv_results['test_score'].mean():.3f} +/- \"\n",
    "    f\"{cv_results['test_score'].std():.3f}\"\n",
    ")"
   ]
  },
  {
   "cell_type": "code",
   "execution_count": 62,
   "metadata": {},
   "outputs": [
    {
     "name": "stdout",
     "output_type": "stream",
     "text": [
      "Balanced accuracy mean +/- std. dev.: 0.962 +/- 0.001\n"
     ]
    }
   ],
   "source": [
    "scores = []\n",
    "for fold_id, cv_model in enumerate(cv_results[\"estimator\"]):\n",
    "    scores.append(\n",
    "        balanced_accuracy_score(\n",
    "            y_test, cv_model.predict(X_test)\n",
    "       )\n",
    "    )\n",
    "print(\n",
    "    f\"Balanced accuracy mean +/- std. dev.: \"\n",
    "    f\"{np.mean(scores):.3f} +/- {np.std(scores):.3f}\"\n",
    ")"
   ]
  },
  {
   "cell_type": "code",
   "execution_count": 63,
   "metadata": {},
   "outputs": [],
   "source": [
    "lista_prec0.append([])\n",
    "lista_rec0.append([])\n",
    "lista_prec1.append([])\n",
    "lista_rec1.append([])\n",
    "lista_balacc.append(np.mean(scores))"
   ]
  },
  {
   "cell_type": "markdown",
   "metadata": {},
   "source": [
    "## Sumario "
   ]
  },
  {
   "cell_type": "code",
   "execution_count": 64,
   "metadata": {},
   "outputs": [
    {
     "data": {
      "text/html": [
       "<div>\n",
       "<style scoped>\n",
       "    .dataframe tbody tr th:only-of-type {\n",
       "        vertical-align: middle;\n",
       "    }\n",
       "\n",
       "    .dataframe tbody tr th {\n",
       "        vertical-align: top;\n",
       "    }\n",
       "\n",
       "    .dataframe thead th {\n",
       "        text-align: right;\n",
       "    }\n",
       "</style>\n",
       "<table border=\"1\" class=\"dataframe\">\n",
       "  <thead>\n",
       "    <tr style=\"text-align: right;\">\n",
       "      <th></th>\n",
       "      <th>Modelo</th>\n",
       "      <th>Precision-Clase0</th>\n",
       "      <th>Recall-Clase0</th>\n",
       "      <th>Precision-Clase1</th>\n",
       "      <th>Recall-Clase1</th>\n",
       "      <th>Balanced-Accuracy</th>\n",
       "    </tr>\n",
       "  </thead>\n",
       "  <tbody>\n",
       "    <tr>\n",
       "      <th>0</th>\n",
       "      <td>RL sin undersampling</td>\n",
       "      <td>0.99879</td>\n",
       "      <td>0.999957</td>\n",
       "      <td>0.654088</td>\n",
       "      <td>0.063299</td>\n",
       "      <td>[]</td>\n",
       "    </tr>\n",
       "    <tr>\n",
       "      <th>1</th>\n",
       "      <td>RL con undersampling</td>\n",
       "      <td>0.999525</td>\n",
       "      <td>0.876801</td>\n",
       "      <td>0.007065</td>\n",
       "      <td>0.678028</td>\n",
       "      <td>[]</td>\n",
       "    </tr>\n",
       "    <tr>\n",
       "      <th>2</th>\n",
       "      <td>RL con undersampling y CV</td>\n",
       "      <td>[]</td>\n",
       "      <td>[]</td>\n",
       "      <td>[]</td>\n",
       "      <td>[]</td>\n",
       "      <td>0.777363</td>\n",
       "    </tr>\n",
       "    <tr>\n",
       "      <th>3</th>\n",
       "      <td>DT sin undersampling</td>\n",
       "      <td>0.999548</td>\n",
       "      <td>0.999539</td>\n",
       "      <td>0.645707</td>\n",
       "      <td>0.65003</td>\n",
       "      <td>[]</td>\n",
       "    </tr>\n",
       "    <tr>\n",
       "      <th>4</th>\n",
       "      <td>DT con undersampling</td>\n",
       "      <td>0.999944</td>\n",
       "      <td>0.92879</td>\n",
       "      <td>0.017127</td>\n",
       "      <td>0.95983</td>\n",
       "      <td>[]</td>\n",
       "    </tr>\n",
       "    <tr>\n",
       "      <th>5</th>\n",
       "      <td>DT con undersampling y CV</td>\n",
       "      <td>[]</td>\n",
       "      <td>[]</td>\n",
       "      <td>[]</td>\n",
       "      <td>[]</td>\n",
       "      <td>0.948812</td>\n",
       "    </tr>\n",
       "    <tr>\n",
       "      <th>6</th>\n",
       "      <td>RF sin undersampling</td>\n",
       "      <td>0.999469</td>\n",
       "      <td>0.999959</td>\n",
       "      <td>0.94902</td>\n",
       "      <td>0.589166</td>\n",
       "      <td>[]</td>\n",
       "    </tr>\n",
       "    <tr>\n",
       "      <th>7</th>\n",
       "      <td>RF con undersampling</td>\n",
       "      <td>0.999953</td>\n",
       "      <td>0.96468</td>\n",
       "      <td>0.034106</td>\n",
       "      <td>0.964699</td>\n",
       "      <td>[]</td>\n",
       "    </tr>\n",
       "    <tr>\n",
       "      <th>8</th>\n",
       "      <td>RF con undersampling y CV</td>\n",
       "      <td>[]</td>\n",
       "      <td>[]</td>\n",
       "      <td>[]</td>\n",
       "      <td>[]</td>\n",
       "      <td>0.962111</td>\n",
       "    </tr>\n",
       "  </tbody>\n",
       "</table>\n",
       "</div>"
      ],
      "text/plain": [
       "                      Modelo Precision-Clase0 Recall-Clase0 Precision-Clase1  \\\n",
       "0       RL sin undersampling          0.99879      0.999957         0.654088   \n",
       "1       RL con undersampling         0.999525      0.876801         0.007065   \n",
       "2  RL con undersampling y CV               []            []               []   \n",
       "3       DT sin undersampling         0.999548      0.999539         0.645707   \n",
       "4       DT con undersampling         0.999944       0.92879         0.017127   \n",
       "5  DT con undersampling y CV               []            []               []   \n",
       "6       RF sin undersampling         0.999469      0.999959          0.94902   \n",
       "7       RF con undersampling         0.999953       0.96468         0.034106   \n",
       "8  RF con undersampling y CV               []            []               []   \n",
       "\n",
       "  Recall-Clase1 Balanced-Accuracy  \n",
       "0      0.063299                []  \n",
       "1      0.678028                []  \n",
       "2            []          0.777363  \n",
       "3       0.65003                []  \n",
       "4       0.95983                []  \n",
       "5            []          0.948812  \n",
       "6      0.589166                []  \n",
       "7      0.964699                []  \n",
       "8            []          0.962111  "
      ]
     },
     "execution_count": 64,
     "metadata": {},
     "output_type": "execute_result"
    }
   ],
   "source": [
    "lista_modelos = ['RL sin undersampling', 'RL con undersampling', 'RL con undersampling y CV', 'DT sin undersampling', 'DT con undersampling', 'DT con undersampling y CV', 'RF sin undersampling', 'RF con undersampling', 'RF con undersampling y CV']\n",
    "data = {'Modelo': lista_modelos, 'Precision-Clase0': lista_prec0, 'Recall-Clase0': lista_rec0, 'Precision-Clase1': lista_prec1, 'Recall-Clase1': lista_rec1, 'Balanced-Accuracy': lista_balacc}\n",
    "df = pd.DataFrame(data)  \n",
    "df"
   ]
  },
  {
   "cell_type": "markdown",
   "metadata": {},
   "source": [
    "---\n",
    "# **Conclusiones**"
   ]
  },
  {
   "cell_type": "markdown",
   "metadata": {},
   "source": [
    "En la etapa de construcción de modelos, se ensayaron modelos de regresión logística, de árboles de decisión y de Random Forest y en tres etapas: \n",
    "- i) dataset sin balanceado de clases en la variable target. Evaluación de métricas tradicionales de recall y precision.\n",
    "- ii) dataset con balanceado de clases en la variable target. Evaluación de métricas tradicionales de recall y precision.\n",
    "- iii) dataset con balanceado de clases en la variable target. Evaluación de métrica de balanced_accuracy luego de realizar validación cruzada\n",
    "\n",
    "Recordamos que las métricas de precision y recall se definen como:\n",
    "\n",
    "$$\n",
    "\\mathrm{Precision} = \\frac{TP}{TP+FP},\\quad \\mathrm{Recall} = \\frac{TP}{TP+FN},\n",
    "$$\n",
    "donde, para el caso estudiado, la cantidad de falsos positivos (FP) refiere al caso donde el modelo predice fraude cuando en realidad la operación es válida, mientras que la cantidad de falsos negativos (FN) corresponde al caso donde el modelo predice operación válida cuando en realidad se trata de fraude.\n",
    "\n",
    "En los casos evaluados bajo la etapa i), la métrica de precision y recall para la clase 0 fue muy alta. Por otro lado, la precisión para la clase 1 se redujo sensiblemente, mientras que el recall sufrió un deterioro hasta valores por debajo de 0.5. Este comportamiento representaría pérdidas económicas muy elevadas para una institucion bancaria dado que el modelo permitiría operaciones fraudulentas dándolas como válidas. \n",
    "\n",
    "Al evaluar los casos correspondientes a la etapa ii), también se registraron valores elevados de precision y recall para la clase 0, mientras que para la clase 1 el comportamiento de los modelos evaluados fue inverso al correspondiente al caso i): se registró un incremento notable de la métrica de recall a expensas del deteriorio de la métrica de precision. Es decir, el balanceo de las clases en la variable target priorizó la reducción de FN evitando dar como válidas operaciones realmente fraudulentas, a costo de aumentar la tasa de FP. Este comportamiento minimiza las pérdidas y/o perjuicios sobre la institución bancaria, a expensas de generar mayores reclamos por parte de los clientes ya que el modelo bloquearía operaciones realmente válidas.\n",
    "\n",
    "Con los modelos analizados, no fue posible encontrar una configuración que asegure al mismo tiempo una elevada precisión y un elevado recall en la clase minoritaria.\n",
    "\n",
    "En la etapa iii), la métrica obtenida de balanced_accuracy resultó máxima en el caso del modelo de Random Forest con undersampling y cross-validation, a la vez que el balanced_accuracy resultó algo inferior en los dos modelos restantes. En apariencia, esta métrica no sería suficiente para determinar la optimalidad del modelo dado que no permite computar la proporción de FP y FN, con lo cual no se tiene una noción del desempeño del modelo respecto a de las operaciones válidas dadas como fraudulentas ni a las operaciones fraudulentas dadas como válidas. \n",
    "\n",
    "En conclusión, los modelos presentados no son útiles para el objetivo propuesto. Sería necesario evaluar configuraciones diferentes de los mismos modelos o evaluar modelos diferentes, en los que las métricas de recall y precision se mantengan elevadas para las dos clases."
   ]
  },
  {
   "cell_type": "markdown",
   "metadata": {},
   "source": []
  }
 ],
 "metadata": {
  "interpreter": {
   "hash": "107d7b120a5b68773a87d4067e673630b35702e55ebab3138143d08b1c4d7cbc"
  },
  "kernelspec": {
   "display_name": "Python 3.10.4 64-bit",
   "language": "python",
   "name": "python3"
  },
  "language_info": {
   "codemirror_mode": {
    "name": "ipython",
    "version": 3
   },
   "file_extension": ".py",
   "mimetype": "text/x-python",
   "name": "python",
   "nbconvert_exporter": "python",
   "pygments_lexer": "ipython3",
   "version": "3.10.4"
  },
  "orig_nbformat": 4
 },
 "nbformat": 4,
 "nbformat_minor": 2
}
